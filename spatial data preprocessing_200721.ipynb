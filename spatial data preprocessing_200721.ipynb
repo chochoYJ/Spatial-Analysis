{
 "cells": [
  {
   "cell_type": "markdown",
   "metadata": {},
   "source": [
    "## Data Screening by Spatial Analysis\n",
    "### process\n",
    "1. making distinct nation-wide station dataset -> geoDataFrame  \n",
    "2. check the boundary (within our service area)\n",
    "3. making buffer\n",
    "4. Spatial Join : select features within buffer polygons\n",
    "\n",
    "### used functions\n",
    "* gis sql\n",
    "    * ST_INTERSECTS\n",
    "    * ST_X, ST_Y\n",
    "    * ST_GEOGPOINT\n",
    "    * ST_WITHIN\n",
    "    * ST_CONTAINS ...\n",
    "* geopandas\n",
    "    * gpd.points_from_xy(long, lat)\n",
    "    * gpd.GeoDataFrame(columns, geometry  = xx )\n",
    "    * sjoin(GDF, GDF, how = , op = )\n",
    "    * buffer\n",
    "    * Proj\n",
    " * shapely\n",
    "     * shapely.ops : unary_union, transform\n",
    "     * shapely.geometry : Polygon, MultiPolygon, Point\n",
    " * pyproj\n",
    "\n",
    "### buffer 설정시 meter 단위 맞추기 (units=meters)\n",
    "* epsg:4326은 degree unit 좌표계\n",
    "* 25m = 0.00025\n",
    "* 50m = 0.0005\n",
    "* 1° = 111 km (or 60 nautical miles) 0.1° = 11.1 km. 0.01° = 1.11 km (2 decimals, km accuracy) 0.001° =111 m"
   ]
  },
  {
   "cell_type": "code",
   "execution_count": 1,
   "metadata": {},
   "outputs": [],
   "source": [
    "import pandas as pd\n",
    "import geopandas as gpd\n",
    "import pandas_gbq as pd_gbq"
   ]
  },
  {
   "cell_type": "markdown",
   "metadata": {},
   "source": [
    "### station dataset "
   ]
  },
  {
   "cell_type": "code",
   "execution_count": 4,
   "metadata": {},
   "outputs": [],
   "source": [
    "pj = 'xxx'\n",
    "sql = \"\"\"\n",
    "xxx\n",
    "\"\"\"\n",
    "geosql = \"\"\"\n",
    "xxx\n",
    "\"\"\""
   ]
  },
  {
   "cell_type": "code",
   "execution_count": 5,
   "metadata": {},
   "outputs": [
    {
     "name": "stderr",
     "output_type": "stream",
     "text": [
      "Downloading: 100%|██████████| 12999/12999 [00:01<00:00, 10686.74rows/s]\n",
      "Downloading: 100%|██████████| 4185/4185 [00:00<00:00, 4849.68rows/s]\n"
     ]
    }
   ],
   "source": [
    "stations = pd_gbq.read_gbq(sql, project_id = pj)\n",
    "stations_with_code = pd_gbq.read_gbq(geosql, project_id = pj)"
   ]
  },
  {
   "cell_type": "code",
   "execution_count": 6,
   "metadata": {
    "scrolled": true
   },
   "outputs": [
    {
     "data": {
      "text/html": [
       "<div>\n",
       "<style scoped>\n",
       "    .dataframe tbody tr th:only-of-type {\n",
       "        vertical-align: middle;\n",
       "    }\n",
       "\n",
       "    .dataframe tbody tr th {\n",
       "        vertical-align: top;\n",
       "    }\n",
       "\n",
       "    .dataframe thead th {\n",
       "        text-align: right;\n",
       "    }\n",
       "</style>\n",
       "<table border=\"1\" class=\"dataframe\">\n",
       "  <thead>\n",
       "    <tr style=\"text-align: right;\">\n",
       "      <th></th>\n",
       "      <th>station_name</th>\n",
       "      <th>lat</th>\n",
       "      <th>long</th>\n",
       "      <th>point</th>\n",
       "    </tr>\n",
       "  </thead>\n",
       "  <tbody>\n",
       "    <tr>\n",
       "      <td>0</td>\n",
       "      <td>건국동 광주은행 사거리</td>\n",
       "      <td>32.206516</td>\n",
       "      <td>126.858962</td>\n",
       "      <td>POINT(126.858962 32.206516)</td>\n",
       "    </tr>\n",
       "    <tr>\n",
       "      <td>1</td>\n",
       "      <td>송악산 인증센터</td>\n",
       "      <td>33.206723</td>\n",
       "      <td>126.287401</td>\n",
       "      <td>POINT(126.2874012 33.2067231)</td>\n",
       "    </tr>\n",
       "    <tr>\n",
       "      <td>2</td>\n",
       "      <td>법환포구 인증센터</td>\n",
       "      <td>33.235775</td>\n",
       "      <td>126.515158</td>\n",
       "      <td>POINT(126.5151584 33.2357749)</td>\n",
       "    </tr>\n",
       "    <tr>\n",
       "      <td>3</td>\n",
       "      <td>월드컵경기장 광장</td>\n",
       "      <td>33.246220</td>\n",
       "      <td>126.509278</td>\n",
       "      <td>POINT(126.5092776992 33.2462197433)</td>\n",
       "    </tr>\n",
       "    <tr>\n",
       "      <td>4</td>\n",
       "      <td>쇠소깍 인증센터</td>\n",
       "      <td>33.252206</td>\n",
       "      <td>126.623119</td>\n",
       "      <td>POINT(126.6231188 33.2522055)</td>\n",
       "    </tr>\n",
       "  </tbody>\n",
       "</table>\n",
       "</div>"
      ],
      "text/plain": [
       "   station_name        lat        long                                point\n",
       "0  건국동 광주은행 사거리  32.206516  126.858962          POINT(126.858962 32.206516)\n",
       "1      송악산 인증센터  33.206723  126.287401        POINT(126.2874012 33.2067231)\n",
       "2     법환포구 인증센터  33.235775  126.515158        POINT(126.5151584 33.2357749)\n",
       "3     월드컵경기장 광장  33.246220  126.509278  POINT(126.5092776992 33.2462197433)\n",
       "4      쇠소깍 인증센터  33.252206  126.623119        POINT(126.6231188 33.2522055)"
      ]
     },
     "execution_count": 6,
     "metadata": {},
     "output_type": "execute_result"
    }
   ],
   "source": [
    "stations.head()"
   ]
  },
  {
   "cell_type": "code",
   "execution_count": 5,
   "metadata": {},
   "outputs": [],
   "source": [
    "#stations.long.min()"
   ]
  },
  {
   "cell_type": "markdown",
   "metadata": {},
   "source": [
    "### to GeoDataFrame"
   ]
  },
  {
   "cell_type": "code",
   "execution_count": 7,
   "metadata": {},
   "outputs": [],
   "source": [
    "geom_station = gpd.points_from_xy(stations.long, stations.lat)"
   ]
  },
  {
   "cell_type": "code",
   "execution_count": 8,
   "metadata": {
    "scrolled": true
   },
   "outputs": [
    {
     "name": "stderr",
     "output_type": "stream",
     "text": [
      "/Users/yeonjin/opt/anaconda3/lib/python3.7/site-packages/pyproj/crs.py:77: FutureWarning: '+init=<authority>:<code>' syntax is deprecated. '<authority>:<code>' is the preferred initialization method.\n",
      "  return _prepare_from_string(\" \".join(pjargs))\n"
     ]
    },
    {
     "data": {
      "text/html": [
       "<div>\n",
       "<style scoped>\n",
       "    .dataframe tbody tr th:only-of-type {\n",
       "        vertical-align: middle;\n",
       "    }\n",
       "\n",
       "    .dataframe tbody tr th {\n",
       "        vertical-align: top;\n",
       "    }\n",
       "\n",
       "    .dataframe thead th {\n",
       "        text-align: right;\n",
       "    }\n",
       "</style>\n",
       "<table border=\"1\" class=\"dataframe\">\n",
       "  <thead>\n",
       "    <tr style=\"text-align: right;\">\n",
       "      <th></th>\n",
       "      <th>station_name</th>\n",
       "      <th>lat</th>\n",
       "      <th>long</th>\n",
       "      <th>geometry</th>\n",
       "    </tr>\n",
       "  </thead>\n",
       "  <tbody>\n",
       "    <tr>\n",
       "      <td>0</td>\n",
       "      <td>건국동 광주은행 사거리</td>\n",
       "      <td>32.206516</td>\n",
       "      <td>126.858962</td>\n",
       "      <td>POINT (126.85896 32.20652)</td>\n",
       "    </tr>\n",
       "    <tr>\n",
       "      <td>1</td>\n",
       "      <td>송악산 인증센터</td>\n",
       "      <td>33.206723</td>\n",
       "      <td>126.287401</td>\n",
       "      <td>POINT (126.28740 33.20672)</td>\n",
       "    </tr>\n",
       "    <tr>\n",
       "      <td>2</td>\n",
       "      <td>법환포구 인증센터</td>\n",
       "      <td>33.235775</td>\n",
       "      <td>126.515158</td>\n",
       "      <td>POINT (126.51516 33.23577)</td>\n",
       "    </tr>\n",
       "    <tr>\n",
       "      <td>3</td>\n",
       "      <td>월드컵경기장 광장</td>\n",
       "      <td>33.246220</td>\n",
       "      <td>126.509278</td>\n",
       "      <td>POINT (126.50928 33.24622)</td>\n",
       "    </tr>\n",
       "    <tr>\n",
       "      <td>4</td>\n",
       "      <td>쇠소깍 인증센터</td>\n",
       "      <td>33.252206</td>\n",
       "      <td>126.623119</td>\n",
       "      <td>POINT (126.62312 33.25221)</td>\n",
       "    </tr>\n",
       "  </tbody>\n",
       "</table>\n",
       "</div>"
      ],
      "text/plain": [
       "   station_name        lat        long                    geometry\n",
       "0  건국동 광주은행 사거리  32.206516  126.858962  POINT (126.85896 32.20652)\n",
       "1      송악산 인증센터  33.206723  126.287401  POINT (126.28740 33.20672)\n",
       "2     법환포구 인증센터  33.235775  126.515158  POINT (126.51516 33.23577)\n",
       "3     월드컵경기장 광장  33.246220  126.509278  POINT (126.50928 33.24622)\n",
       "4      쇠소깍 인증센터  33.252206  126.623119  POINT (126.62312 33.25221)"
      ]
     },
     "execution_count": 8,
     "metadata": {},
     "output_type": "execute_result"
    }
   ],
   "source": [
    "gdf_station = gpd.GeoDataFrame( stations[['station_name','lat','long']],\n",
    "    geometry = geom_station)\n",
    "gdf_station.crs = {'init' : 'epsg:4326'}\n",
    "gdf_station2 = gdf_station.to_crs(epsg=4326)\n",
    "gdf_station2.head()"
   ]
  },
  {
   "cell_type": "code",
   "execution_count": 10,
   "metadata": {
    "scrolled": false
   },
   "outputs": [
    {
     "data": {
      "text/plain": [
       "<matplotlib.axes._subplots.AxesSubplot at 0x11bf8bc90>"
      ]
     },
     "execution_count": 10,
     "metadata": {},
     "output_type": "execute_result"
    },
    {
     "data": {
      "image/png": "[encoded data removed]",
      "text/plain": [
       "<Figure size 432x288 with 1 Axes>"
      ]
     },
     "metadata": {
      "needs_background": "light"
     },
     "output_type": "display_data"
    }
   ],
   "source": [
    "gdf_station2.plot(color='grey')"
   ]
  },
  {
   "cell_type": "code",
   "execution_count": 95,
   "metadata": {},
   "outputs": [
    {
     "data": {
      "text/html": [
       "<div>\n",
       "<style scoped>\n",
       "    .dataframe tbody tr th:only-of-type {\n",
       "        vertical-align: middle;\n",
       "    }\n",
       "\n",
       "    .dataframe tbody tr th {\n",
       "        vertical-align: top;\n",
       "    }\n",
       "\n",
       "    .dataframe thead th {\n",
       "        text-align: right;\n",
       "    }\n",
       "</style>\n",
       "<table border=\"1\" class=\"dataframe\">\n",
       "  <thead>\n",
       "    <tr style=\"text-align: right;\">\n",
       "      <th></th>\n",
       "      <th>station_name</th>\n",
       "      <th>lat</th>\n",
       "      <th>long</th>\n",
       "      <th>geometry</th>\n",
       "    </tr>\n",
       "  </thead>\n",
       "  <tbody>\n",
       "    <tr>\n",
       "      <td>0</td>\n",
       "      <td>건국동 광주은행 사거리</td>\n",
       "      <td>32.206516</td>\n",
       "      <td>126.858962</td>\n",
       "      <td>POLYGON ((126.85921 32.20652, 126.85921 32.206...</td>\n",
       "    </tr>\n",
       "    <tr>\n",
       "      <td>1</td>\n",
       "      <td>송악산 인증센터</td>\n",
       "      <td>33.206723</td>\n",
       "      <td>126.287401</td>\n",
       "      <td>POLYGON ((126.28765 33.20672, 126.28765 33.206...</td>\n",
       "    </tr>\n",
       "    <tr>\n",
       "      <td>2</td>\n",
       "      <td>법환포구 인증센터</td>\n",
       "      <td>33.235775</td>\n",
       "      <td>126.515158</td>\n",
       "      <td>POLYGON ((126.51541 33.23577, 126.51541 33.235...</td>\n",
       "    </tr>\n",
       "    <tr>\n",
       "      <td>3</td>\n",
       "      <td>월드컵경기장 광장</td>\n",
       "      <td>33.246220</td>\n",
       "      <td>126.509278</td>\n",
       "      <td>POLYGON ((126.50953 33.24622, 126.50953 33.246...</td>\n",
       "    </tr>\n",
       "    <tr>\n",
       "      <td>4</td>\n",
       "      <td>쇠소깍 인증센터</td>\n",
       "      <td>33.252206</td>\n",
       "      <td>126.623119</td>\n",
       "      <td>POLYGON ((126.62337 33.25221, 126.62337 33.252...</td>\n",
       "    </tr>\n",
       "  </tbody>\n",
       "</table>\n",
       "</div>"
      ],
      "text/plain": [
       "   station_name        lat        long  \\\n",
       "0  건국동 광주은행 사거리  32.206516  126.858962   \n",
       "1      송악산 인증센터  33.206723  126.287401   \n",
       "2     법환포구 인증센터  33.235775  126.515158   \n",
       "3     월드컵경기장 광장  33.246220  126.509278   \n",
       "4      쇠소깍 인증센터  33.252206  126.623119   \n",
       "\n",
       "                                            geometry  \n",
       "0  POLYGON ((126.85921 32.20652, 126.85921 32.206...  \n",
       "1  POLYGON ((126.28765 33.20672, 126.28765 33.206...  \n",
       "2  POLYGON ((126.51541 33.23577, 126.51541 33.235...  \n",
       "3  POLYGON ((126.50953 33.24622, 126.50953 33.246...  \n",
       "4  POLYGON ((126.62337 33.25221, 126.62337 33.252...  "
      ]
     },
     "execution_count": 95,
     "metadata": {},
     "output_type": "execute_result"
    }
   ],
   "source": [
    "# buffer table \n",
    "buffer25_all_station = gdf_station2.copy()\n",
    "buffer25_all_station['geometry'] = buffer25_all_station.geometry.buffer(0.00025)\n",
    "buffer25_all_station.head()"
   ]
  },
  {
   "cell_type": "code",
   "execution_count": 96,
   "metadata": {},
   "outputs": [],
   "source": [
    "#buffer25_all_station.to_file(\"buffer25_all_stations.json\", driver=\"GeoJSON\")"
   ]
  },
  {
   "cell_type": "markdown",
   "metadata": {},
   "source": [
    "## Stations Within Geoblock"
   ]
  },
  {
   "cell_type": "code",
   "execution_count": 154,
   "metadata": {
    "scrolled": true
   },
   "outputs": [],
   "source": [
    "geoblock_sql = \"\"\"\n",
    "xxx\n",
    "\"\"\"\n",
    "#gb = pd_gbq.read_gbq(geoblock_sql, project_id = pj)"
   ]
  },
  {
   "cell_type": "code",
   "execution_count": 13,
   "metadata": {
    "scrolled": true
   },
   "outputs": [
    {
     "data": {
      "text/html": [
       "<div>\n",
       "<style scoped>\n",
       "    .dataframe tbody tr th:only-of-type {\n",
       "        vertical-align: middle;\n",
       "    }\n",
       "\n",
       "    .dataframe tbody tr th {\n",
       "        vertical-align: top;\n",
       "    }\n",
       "\n",
       "    .dataframe thead th {\n",
       "        text-align: right;\n",
       "    }\n",
       "</style>\n",
       "<table border=\"1\" class=\"dataframe\">\n",
       "  <thead>\n",
       "    <tr style=\"text-align: right;\">\n",
       "      <th></th>\n",
       "      <th>station_name</th>\n",
       "      <th>lat</th>\n",
       "      <th>long</th>\n",
       "    </tr>\n",
       "  </thead>\n",
       "  <tbody>\n",
       "    <tr>\n",
       "      <td>0</td>\n",
       "      <td>가락마을602동앞</td>\n",
       "      <td>36.502350</td>\n",
       "      <td>127.239876</td>\n",
       "    </tr>\n",
       "    <tr>\n",
       "      <td>1</td>\n",
       "      <td>가재마을310동앞</td>\n",
       "      <td>36.505023</td>\n",
       "      <td>127.243896</td>\n",
       "    </tr>\n",
       "    <tr>\n",
       "      <td>2</td>\n",
       "      <td>도담고등학교</td>\n",
       "      <td>36.513549</td>\n",
       "      <td>127.264529</td>\n",
       "    </tr>\n",
       "    <tr>\n",
       "      <td>3</td>\n",
       "      <td>어진동제3주차장</td>\n",
       "      <td>36.502344</td>\n",
       "      <td>127.266050</td>\n",
       "    </tr>\n",
       "    <tr>\n",
       "      <td>4</td>\n",
       "      <td>다정교</td>\n",
       "      <td>36.494621</td>\n",
       "      <td>127.256346</td>\n",
       "    </tr>\n",
       "  </tbody>\n",
       "</table>\n",
       "</div>"
      ],
      "text/plain": [
       "  station_name        lat        long\n",
       "0    가락마을602동앞  36.502350  127.239876\n",
       "1    가재마을310동앞  36.505023  127.243896\n",
       "2       도담고등학교  36.513549  127.264529\n",
       "3     어진동제3주차장  36.502344  127.266050\n",
       "4          다정교  36.494621  127.256346"
      ]
     },
     "execution_count": 13,
     "metadata": {},
     "output_type": "execute_result"
    }
   ],
   "source": [
    "gb.head()"
   ]
  },
  {
   "cell_type": "code",
   "execution_count": 145,
   "metadata": {
    "scrolled": true
   },
   "outputs": [
    {
     "data": {
      "text/html": [
       "<div>\n",
       "<style scoped>\n",
       "    .dataframe tbody tr th:only-of-type {\n",
       "        vertical-align: middle;\n",
       "    }\n",
       "\n",
       "    .dataframe tbody tr th {\n",
       "        vertical-align: top;\n",
       "    }\n",
       "\n",
       "    .dataframe thead th {\n",
       "        text-align: right;\n",
       "    }\n",
       "</style>\n",
       "<table border=\"1\" class=\"dataframe\">\n",
       "  <thead>\n",
       "    <tr style=\"text-align: right;\">\n",
       "      <th></th>\n",
       "      <th>station_name</th>\n",
       "      <th>lat</th>\n",
       "      <th>long</th>\n",
       "      <th>point</th>\n",
       "      <th>code</th>\n",
       "    </tr>\n",
       "  </thead>\n",
       "  <tbody>\n",
       "    <tr>\n",
       "      <td>0</td>\n",
       "      <td>가락마을602동앞</td>\n",
       "      <td>36.502350</td>\n",
       "      <td>127.239876</td>\n",
       "      <td>POINT(127.239876 36.50235)</td>\n",
       "      <td>세종</td>\n",
       "    </tr>\n",
       "    <tr>\n",
       "      <td>1</td>\n",
       "      <td>가재마을310동앞</td>\n",
       "      <td>36.505023</td>\n",
       "      <td>127.243896</td>\n",
       "      <td>POINT(127.243896 36.505023)</td>\n",
       "      <td>세종</td>\n",
       "    </tr>\n",
       "    <tr>\n",
       "      <td>2</td>\n",
       "      <td>도담고등학교</td>\n",
       "      <td>36.513549</td>\n",
       "      <td>127.264529</td>\n",
       "      <td>POINT(127.264529 36.513549)</td>\n",
       "      <td>세종</td>\n",
       "    </tr>\n",
       "    <tr>\n",
       "      <td>3</td>\n",
       "      <td>어진동제3주차장</td>\n",
       "      <td>36.502344</td>\n",
       "      <td>127.266050</td>\n",
       "      <td>POINT(127.26605 36.502344)</td>\n",
       "      <td>세종</td>\n",
       "    </tr>\n",
       "    <tr>\n",
       "      <td>4</td>\n",
       "      <td>다정교</td>\n",
       "      <td>36.494621</td>\n",
       "      <td>127.256346</td>\n",
       "      <td>POINT(127.256346 36.494621)</td>\n",
       "      <td>세종</td>\n",
       "    </tr>\n",
       "  </tbody>\n",
       "</table>\n",
       "</div>"
      ],
      "text/plain": [
       "  station_name        lat        long                        point code\n",
       "0    가락마을602동앞  36.502350  127.239876   POINT(127.239876 36.50235)   세종\n",
       "1    가재마을310동앞  36.505023  127.243896  POINT(127.243896 36.505023)   세종\n",
       "2       도담고등학교  36.513549  127.264529  POINT(127.264529 36.513549)   세종\n",
       "3     어진동제3주차장  36.502344  127.266050   POINT(127.26605 36.502344)   세종\n",
       "4          다정교  36.494621  127.256346  POINT(127.256346 36.494621)   세종"
      ]
     },
     "execution_count": 145,
     "metadata": {},
     "output_type": "execute_result"
    }
   ],
   "source": [
    "gb2 = pd.merge(gb,stations_with_code)\n",
    "gb2.head()"
   ]
  },
  {
   "cell_type": "code",
   "execution_count": 65,
   "metadata": {
    "scrolled": true
   },
   "outputs": [
    {
     "name": "stderr",
     "output_type": "stream",
     "text": [
      "/Users/yeonjin/opt/anaconda3/lib/python3.7/site-packages/pyproj/crs.py:77: FutureWarning: '+init=<authority>:<code>' syntax is deprecated. '<authority>:<code>' is the preferred initialization method.\n",
      "  return _prepare_from_string(\" \".join(pjargs))\n"
     ]
    },
    {
     "data": {
      "text/html": [
       "<div>\n",
       "<style scoped>\n",
       "    .dataframe tbody tr th:only-of-type {\n",
       "        vertical-align: middle;\n",
       "    }\n",
       "\n",
       "    .dataframe tbody tr th {\n",
       "        vertical-align: top;\n",
       "    }\n",
       "\n",
       "    .dataframe thead th {\n",
       "        text-align: right;\n",
       "    }\n",
       "</style>\n",
       "<table border=\"1\" class=\"dataframe\">\n",
       "  <thead>\n",
       "    <tr style=\"text-align: right;\">\n",
       "      <th></th>\n",
       "      <th>station_name</th>\n",
       "      <th>lat</th>\n",
       "      <th>long</th>\n",
       "      <th>code</th>\n",
       "      <th>geometry</th>\n",
       "    </tr>\n",
       "  </thead>\n",
       "  <tbody>\n",
       "    <tr>\n",
       "      <td>0</td>\n",
       "      <td>가락마을602동앞</td>\n",
       "      <td>36.502350</td>\n",
       "      <td>127.239876</td>\n",
       "      <td>세종</td>\n",
       "      <td>POINT (127.23988 36.50235)</td>\n",
       "    </tr>\n",
       "    <tr>\n",
       "      <td>1</td>\n",
       "      <td>가재마을310동앞</td>\n",
       "      <td>36.505023</td>\n",
       "      <td>127.243896</td>\n",
       "      <td>세종</td>\n",
       "      <td>POINT (127.24390 36.50502)</td>\n",
       "    </tr>\n",
       "    <tr>\n",
       "      <td>2</td>\n",
       "      <td>도담고등학교</td>\n",
       "      <td>36.513549</td>\n",
       "      <td>127.264529</td>\n",
       "      <td>세종</td>\n",
       "      <td>POINT (127.26453 36.51355)</td>\n",
       "    </tr>\n",
       "    <tr>\n",
       "      <td>3</td>\n",
       "      <td>어진동제3주차장</td>\n",
       "      <td>36.502344</td>\n",
       "      <td>127.266050</td>\n",
       "      <td>세종</td>\n",
       "      <td>POINT (127.26605 36.50234)</td>\n",
       "    </tr>\n",
       "    <tr>\n",
       "      <td>4</td>\n",
       "      <td>다정교</td>\n",
       "      <td>36.494621</td>\n",
       "      <td>127.256346</td>\n",
       "      <td>세종</td>\n",
       "      <td>POINT (127.25635 36.49462)</td>\n",
       "    </tr>\n",
       "  </tbody>\n",
       "</table>\n",
       "</div>"
      ],
      "text/plain": [
       "  station_name        lat        long code                    geometry\n",
       "0    가락마을602동앞  36.502350  127.239876   세종  POINT (127.23988 36.50235)\n",
       "1    가재마을310동앞  36.505023  127.243896   세종  POINT (127.24390 36.50502)\n",
       "2       도담고등학교  36.513549  127.264529   세종  POINT (127.26453 36.51355)\n",
       "3     어진동제3주차장  36.502344  127.266050   세종  POINT (127.26605 36.50234)\n",
       "4          다정교  36.494621  127.256346   세종  POINT (127.25635 36.49462)"
      ]
     },
     "execution_count": 65,
     "metadata": {},
     "output_type": "execute_result"
    }
   ],
   "source": [
    "buf_station = gpd.points_from_xy(gb2.long, gb2.lat)\n",
    "dbuf_station = gpd.GeoDataFrame( gb2[['station_name','lat','long','code']],\n",
    "    geometry = buf_station)\n",
    "dbuf_station.crs = {'init' : 'epsg:4326'}\n",
    "dbuf_station2 = dbuf_station.to_crs(epsg=4326)\n",
    "dbuf_station2.head()"
   ]
  },
  {
   "cell_type": "markdown",
   "metadata": {},
   "source": [
    "## Riding Log"
   ]
  },
  {
   "cell_type": "code",
   "execution_count": 155,
   "metadata": {},
   "outputs": [],
   "source": [
    "riding = \"\"\"\n",
    "xxx\n",
    "\"\"\""
   ]
  },
  {
   "cell_type": "code",
   "execution_count": 156,
   "metadata": {
    "scrolled": true
   },
   "outputs": [],
   "source": [
    "#rdf = pd_gbq.read_gbq(riding, project_id = pj )"
   ]
  },
  {
   "cell_type": "code",
   "execution_count": 158,
   "metadata": {
    "scrolled": false
   },
   "outputs": [
    {
     "data": {
      "text/plain": [
       "Index(['id', 'region', 'long', 'lat', 'return_photo'], dtype='object')"
      ]
     },
     "execution_count": 158,
     "metadata": {},
     "output_type": "execute_result"
    }
   ],
   "source": [
    "rdf.columns"
   ]
  },
  {
   "cell_type": "code",
   "execution_count": 159,
   "metadata": {},
   "outputs": [
    {
     "name": "stderr",
     "output_type": "stream",
     "text": [
      "/Users/yeonjin/opt/anaconda3/lib/python3.7/site-packages/pyproj/crs.py:77: FutureWarning: '+init=<authority>:<code>' syntax is deprecated. '<authority>:<code>' is the preferred initialization method.\n",
      "  return _prepare_from_string(\" \".join(pjargs))\n"
     ]
    },
    {
     "data": {
      "text/plain": [
       "Index(['id', 'region', 'lat', 'long', 'return_photo', 'geometry'], dtype='object')"
      ]
     },
     "execution_count": 159,
     "metadata": {},
     "output_type": "execute_result"
    }
   ],
   "source": [
    "riding_geo = gpd.points_from_xy(rdf.long, rdf.lat)\n",
    "rdf_geo = gpd.GeoDataFrame(rdf[['id','region','lat','long','return_photo']],\n",
    "                          geometry = riding_geo)\n",
    "rdf_geo.crs = {'init':'epsg:4326'}\n",
    "rdf_geo_ = rdf_geo.to_crs(epsg=4326)\n",
    "rdf_geo_.columns"
   ]
  },
  {
   "cell_type": "markdown",
   "metadata": {},
   "source": [
    "## station within geoblock buffer making"
   ]
  },
  {
   "cell_type": "markdown",
   "metadata": {},
   "source": [
    "###  way 1  : no longer GeoDataFrame -> cannot do spatial join"
   ]
  },
  {
   "cell_type": "code",
   "execution_count": 160,
   "metadata": {},
   "outputs": [],
   "source": [
    "from shapely.geometry import Point, MultiPolygon, Polygon\n",
    "from shapely.ops import unary_union\n",
    "import matplotlib.pyplot as plt\n",
    "from descartes import PolygonPatch"
   ]
  },
  {
   "cell_type": "code",
   "execution_count": 61,
   "metadata": {},
   "outputs": [],
   "source": [
    "polygons25 = [(dbuf_station2.iloc[i,4].buffer(0.00025)) for i in range(len(dbuf_station2))]\n",
    "polygons50 = [(dbuf_station2.iloc[i,4].buffer(0.0005)) for i in range(len(dbuf_station2))]\n",
    "# dbuf_station2['b25'] = polygons25\n",
    "# dbuf_station2['b50'] = polygons50"
   ]
  },
  {
   "cell_type": "code",
   "execution_count": 64,
   "metadata": {},
   "outputs": [
    {
     "data": {
      "text/plain": [
       "<matplotlib.axes._subplots.AxesSubplot at 0x11c90a710>"
      ]
     },
     "execution_count": 64,
     "metadata": {},
     "output_type": "execute_result"
    },
    {
     "data": {
      "image/png": "[encoded data removed]",
      "text/plain": [
       "<Figure size 432x288 with 1 Axes>"
      ]
     },
     "metadata": {
      "needs_background": "light"
     },
     "output_type": "display_data"
    }
   ],
   "source": [
    "dbuf_station2.plot()"
   ]
  },
  {
   "cell_type": "code",
   "execution_count": 162,
   "metadata": {},
   "outputs": [],
   "source": [
    "#dbuf_station2.iloc[0,4].contains(dbuf_station2.iloc[0,3])"
   ]
  },
  {
   "cell_type": "code",
   "execution_count": 31,
   "metadata": {},
   "outputs": [],
   "source": [
    "# ax = plt.plot(figsize = ())\n",
    "# gpd.GeoSeries([dbuf_station2.geometry.buffer(0.005).unary_union]).plot(ax=ax, color = 'k', edgecolor = 'w')\n",
    "# ax.set_title('unary_union')\n",
    "# ax.set_axis_off()\n",
    "# plt.show()"
   ]
  },
  {
   "cell_type": "markdown",
   "metadata": {},
   "source": [
    "### way 2 : GeoDataFrame type"
   ]
  },
  {
   "cell_type": "code",
   "execution_count": 71,
   "metadata": {},
   "outputs": [],
   "source": [
    "# buffer 25m\n",
    "buffer25 = dbuf_station2.copy()"
   ]
  },
  {
   "cell_type": "code",
   "execution_count": 72,
   "metadata": {},
   "outputs": [
    {
     "data": {
      "text/html": [
       "<div>\n",
       "<style scoped>\n",
       "    .dataframe tbody tr th:only-of-type {\n",
       "        vertical-align: middle;\n",
       "    }\n",
       "\n",
       "    .dataframe tbody tr th {\n",
       "        vertical-align: top;\n",
       "    }\n",
       "\n",
       "    .dataframe thead th {\n",
       "        text-align: right;\n",
       "    }\n",
       "</style>\n",
       "<table border=\"1\" class=\"dataframe\">\n",
       "  <thead>\n",
       "    <tr style=\"text-align: right;\">\n",
       "      <th></th>\n",
       "      <th>station_name</th>\n",
       "      <th>lat</th>\n",
       "      <th>long</th>\n",
       "      <th>code</th>\n",
       "      <th>geometry</th>\n",
       "    </tr>\n",
       "  </thead>\n",
       "  <tbody>\n",
       "    <tr>\n",
       "      <td>0</td>\n",
       "      <td>가락마을602동앞</td>\n",
       "      <td>36.502350</td>\n",
       "      <td>127.239876</td>\n",
       "      <td>세종</td>\n",
       "      <td>POLYGON ((127.24013 36.50235, 127.24012 36.502...</td>\n",
       "    </tr>\n",
       "    <tr>\n",
       "      <td>1</td>\n",
       "      <td>가재마을310동앞</td>\n",
       "      <td>36.505023</td>\n",
       "      <td>127.243896</td>\n",
       "      <td>세종</td>\n",
       "      <td>POLYGON ((127.24415 36.50502, 127.24414 36.505...</td>\n",
       "    </tr>\n",
       "    <tr>\n",
       "      <td>2</td>\n",
       "      <td>도담고등학교</td>\n",
       "      <td>36.513549</td>\n",
       "      <td>127.264529</td>\n",
       "      <td>세종</td>\n",
       "      <td>POLYGON ((127.26478 36.51355, 127.26478 36.513...</td>\n",
       "    </tr>\n",
       "    <tr>\n",
       "      <td>3</td>\n",
       "      <td>어진동제3주차장</td>\n",
       "      <td>36.502344</td>\n",
       "      <td>127.266050</td>\n",
       "      <td>세종</td>\n",
       "      <td>POLYGON ((127.26630 36.50234, 127.26630 36.502...</td>\n",
       "    </tr>\n",
       "    <tr>\n",
       "      <td>4</td>\n",
       "      <td>다정교</td>\n",
       "      <td>36.494621</td>\n",
       "      <td>127.256346</td>\n",
       "      <td>세종</td>\n",
       "      <td>POLYGON ((127.25660 36.49462, 127.25659 36.494...</td>\n",
       "    </tr>\n",
       "  </tbody>\n",
       "</table>\n",
       "</div>"
      ],
      "text/plain": [
       "  station_name        lat        long code  \\\n",
       "0    가락마을602동앞  36.502350  127.239876   세종   \n",
       "1    가재마을310동앞  36.505023  127.243896   세종   \n",
       "2       도담고등학교  36.513549  127.264529   세종   \n",
       "3     어진동제3주차장  36.502344  127.266050   세종   \n",
       "4          다정교  36.494621  127.256346   세종   \n",
       "\n",
       "                                            geometry  \n",
       "0  POLYGON ((127.24013 36.50235, 127.24012 36.502...  \n",
       "1  POLYGON ((127.24415 36.50502, 127.24414 36.505...  \n",
       "2  POLYGON ((127.26478 36.51355, 127.26478 36.513...  \n",
       "3  POLYGON ((127.26630 36.50234, 127.26630 36.502...  \n",
       "4  POLYGON ((127.25660 36.49462, 127.25659 36.494...  "
      ]
     },
     "execution_count": 72,
     "metadata": {},
     "output_type": "execute_result"
    }
   ],
   "source": [
    "buffer25['geometry'] = buffer25.geometry.buffer(0.00025)\n",
    "buffer25.head()"
   ]
  },
  {
   "cell_type": "code",
   "execution_count": 152,
   "metadata": {},
   "outputs": [
    {
     "data": {
      "image/svg+xml": [
       "<svg xmlns=\"http://www.w3.org/2000/svg\" xmlns:xlink=\"http://www.w3.org/1999/xlink\" width=\"100.0\" height=\"100.0\" viewBox=\"127.239606 36.50208 0.0005400000000008731 0.0005400000000008731\" preserveAspectRatio=\"xMinYMin meet\"><g transform=\"matrix(1,0,0,-1,0,73.0047)\"><path fill-rule=\"evenodd\" fill=\"#66cc99\" stroke=\"#555555\" stroke-width=\"1.0800000000017462e-05\" opacity=\"0.6\" d=\"M 127.24012599999999,36.50235 L 127.24012479618166,36.50232549571492 L 127.24012119632009,36.502301227419494 L 127.24011523508393,36.50227742883069 L 127.24010696988313,36.502254329141905 L 127.24009648031608,36.50223215081579 L 127.24008386740307,36.502211107441745 L 127.24006925261334,36.50219140167896 L 127.2400527766953,36.5021732233047 L 127.24003459832103,36.50215674738666 L 127.24001489255825,36.50214213259692 L 127.2399938491842,36.50212951968391 L 127.23997167085808,36.50211903011687 L 127.23994857116931,36.50211076491607 L 127.2399247725805,36.5021048036799 L 127.23990050428507,36.502101203818334 L 127.239876,36.5021 L 127.23985149571492,36.502101203818334 L 127.2398272274195,36.5021048036799 L 127.23980342883068,36.50211076491607 L 127.23978032914191,36.50211903011687 L 127.23975815081579,36.50212951968391 L 127.23973710744174,36.50214213259692 L 127.23971740167896,36.50215674738666 L 127.2396992233047,36.5021732233047 L 127.23968274738665,36.50219140167896 L 127.23966813259692,36.502211107441745 L 127.23965551968391,36.50223215081579 L 127.23964503011686,36.502254329141905 L 127.23963676491606,36.50227742883069 L 127.2396308036799,36.502301227419494 L 127.23962720381833,36.50232549571492 L 127.239626,36.50235 L 127.23962720381833,36.50237450428508 L 127.2396308036799,36.502398772580506 L 127.23963676491606,36.50242257116931 L 127.23964503011686,36.502445670858094 L 127.23965551968391,36.50246784918421 L 127.23966813259692,36.502488892558254 L 127.23968274738665,36.50250859832104 L 127.2396992233047,36.5025267766953 L 127.23971740167896,36.50254325261334 L 127.23973710744174,36.50255786740308 L 127.23975815081579,36.50257048031609 L 127.23978032914191,36.50258096988313 L 127.23980342883068,36.50258923508393 L 127.2398272274195,36.5025951963201 L 127.23985149571492,36.502598796181665 L 127.239876,36.5026 L 127.23990050428507,36.502598796181665 L 127.2399247725805,36.5025951963201 L 127.23994857116931,36.50258923508393 L 127.23997167085808,36.50258096988313 L 127.2399938491842,36.50257048031609 L 127.24001489255825,36.50255786740308 L 127.24003459832103,36.50254325261334 L 127.2400527766953,36.5025267766953 L 127.24006925261334,36.50250859832104 L 127.24008386740307,36.502488892558254 L 127.24009648031608,36.50246784918421 L 127.24010696988313,36.502445670858094 L 127.24011523508393,36.50242257116931 L 127.24012119632009,36.502398772580506 L 127.24012479618166,36.50237450428508 L 127.24012599999999,36.50235 z\" /></g></svg>"
      ],
      "text/plain": [
       "<shapely.geometry.polygon.Polygon at 0x11c77ee50>"
      ]
     },
     "execution_count": 152,
     "metadata": {},
     "output_type": "execute_result"
    }
   ],
   "source": [
    "buffer25.geometry[0]"
   ]
  },
  {
   "cell_type": "code",
   "execution_count": 126,
   "metadata": {},
   "outputs": [],
   "source": [
    "buffer40 = dbuf_station2.copy()"
   ]
  },
  {
   "cell_type": "code",
   "execution_count": 127,
   "metadata": {
    "scrolled": true
   },
   "outputs": [
    {
     "data": {
      "text/html": [
       "<div>\n",
       "<style scoped>\n",
       "    .dataframe tbody tr th:only-of-type {\n",
       "        vertical-align: middle;\n",
       "    }\n",
       "\n",
       "    .dataframe tbody tr th {\n",
       "        vertical-align: top;\n",
       "    }\n",
       "\n",
       "    .dataframe thead th {\n",
       "        text-align: right;\n",
       "    }\n",
       "</style>\n",
       "<table border=\"1\" class=\"dataframe\">\n",
       "  <thead>\n",
       "    <tr style=\"text-align: right;\">\n",
       "      <th></th>\n",
       "      <th>station_name</th>\n",
       "      <th>lat</th>\n",
       "      <th>long</th>\n",
       "      <th>code</th>\n",
       "      <th>geometry</th>\n",
       "    </tr>\n",
       "  </thead>\n",
       "  <tbody>\n",
       "    <tr>\n",
       "      <td>0</td>\n",
       "      <td>가락마을602동앞</td>\n",
       "      <td>36.502350</td>\n",
       "      <td>127.239876</td>\n",
       "      <td>세종</td>\n",
       "      <td>POLYGON ((127.24028 36.50235, 127.24027 36.502...</td>\n",
       "    </tr>\n",
       "    <tr>\n",
       "      <td>1</td>\n",
       "      <td>가재마을310동앞</td>\n",
       "      <td>36.505023</td>\n",
       "      <td>127.243896</td>\n",
       "      <td>세종</td>\n",
       "      <td>POLYGON ((127.24430 36.50502, 127.24429 36.504...</td>\n",
       "    </tr>\n",
       "    <tr>\n",
       "      <td>2</td>\n",
       "      <td>도담고등학교</td>\n",
       "      <td>36.513549</td>\n",
       "      <td>127.264529</td>\n",
       "      <td>세종</td>\n",
       "      <td>POLYGON ((127.26493 36.51355, 127.26493 36.513...</td>\n",
       "    </tr>\n",
       "    <tr>\n",
       "      <td>3</td>\n",
       "      <td>어진동제3주차장</td>\n",
       "      <td>36.502344</td>\n",
       "      <td>127.266050</td>\n",
       "      <td>세종</td>\n",
       "      <td>POLYGON ((127.26645 36.50234, 127.26645 36.502...</td>\n",
       "    </tr>\n",
       "    <tr>\n",
       "      <td>4</td>\n",
       "      <td>다정교</td>\n",
       "      <td>36.494621</td>\n",
       "      <td>127.256346</td>\n",
       "      <td>세종</td>\n",
       "      <td>POLYGON ((127.25675 36.49462, 127.25674 36.494...</td>\n",
       "    </tr>\n",
       "  </tbody>\n",
       "</table>\n",
       "</div>"
      ],
      "text/plain": [
       "  station_name        lat        long code  \\\n",
       "0    가락마을602동앞  36.502350  127.239876   세종   \n",
       "1    가재마을310동앞  36.505023  127.243896   세종   \n",
       "2       도담고등학교  36.513549  127.264529   세종   \n",
       "3     어진동제3주차장  36.502344  127.266050   세종   \n",
       "4          다정교  36.494621  127.256346   세종   \n",
       "\n",
       "                                            geometry  \n",
       "0  POLYGON ((127.24028 36.50235, 127.24027 36.502...  \n",
       "1  POLYGON ((127.24430 36.50502, 127.24429 36.504...  \n",
       "2  POLYGON ((127.26493 36.51355, 127.26493 36.513...  \n",
       "3  POLYGON ((127.26645 36.50234, 127.26645 36.502...  \n",
       "4  POLYGON ((127.25675 36.49462, 127.25674 36.494...  "
      ]
     },
     "execution_count": 127,
     "metadata": {},
     "output_type": "execute_result"
    }
   ],
   "source": [
    "buffer40['geometry'] = buffer40.geometry.buffer(0.0004)\n",
    "buffer40.head()"
   ]
  },
  {
   "cell_type": "code",
   "execution_count": 99,
   "metadata": {},
   "outputs": [],
   "source": [
    "#buffer25.to_file(\"buffer25_inservice_stations.jsonl\", driver=\"GeoJSON\", lines = True)"
   ]
  },
  {
   "cell_type": "markdown",
   "metadata": {},
   "source": [
    "## buffer25에 포함되는지 확인 by Spatial Join\n",
    "check point\n",
    "* 미터 단위가 맞는가 with 좌표계 (완)\n",
    "* geoDataFrame (완)\n",
    "\n",
    "* base table  = rdf_geo_\n",
    "* using table = buffer25 , buffer50"
   ]
  },
  {
   "cell_type": "code",
   "execution_count": 73,
   "metadata": {
    "scrolled": false
   },
   "outputs": [
    {
     "data": {
      "text/plain": [
       "{'init': 'epsg:4326'}"
      ]
     },
     "execution_count": 73,
     "metadata": {},
     "output_type": "execute_result"
    }
   ],
   "source": [
    "buffer25.crs"
   ]
  },
  {
   "cell_type": "code",
   "execution_count": 108,
   "metadata": {
    "scrolled": true
   },
   "outputs": [],
   "source": [
    "swithin_b25 = gpd.sjoin( buffer25, rdf_geo_, how = 'inner', op = 'intersects')"
   ]
  },
  {
   "cell_type": "code",
   "execution_count": 151,
   "metadata": {
    "scrolled": false
   },
   "outputs": [],
   "source": [
    "after_buffer25 = swithin_b25[['id','region','lat_right','long_right','return_photo']].drop_duplicates()\n",
    "#after_buffer25"
   ]
  },
  {
   "cell_type": "code",
   "execution_count": 150,
   "metadata": {},
   "outputs": [],
   "source": [
    "#after_buffer25.groupby('region')['id'].count()"
   ]
  },
  {
   "cell_type": "code",
   "execution_count": 146,
   "metadata": {},
   "outputs": [
    {
     "name": "stdout",
     "output_type": "stream",
     "text": [
      "User Guide: https://github.com/keplergl/kepler.gl/blob/master/docs/keplergl-jupyter/user-guide.md\n"
     ]
    }
   ],
   "source": [
    "from keplergl import KeplerGl\n",
    "w1 = KeplerGl(height = 800)\n",
    "w1.add_data(buffer25, name = 'buffer25')\n",
    "w1.add_data(after_buffer25, name = 'rd_25')\n",
    "#w1"
   ]
  },
  {
   "cell_type": "markdown",
   "metadata": {},
   "source": [
    "# BUFFER Change "
   ]
  },
  {
   "cell_type": "code",
   "execution_count": 128,
   "metadata": {},
   "outputs": [],
   "source": [
    "swithin_b50 = gpd.sjoin( buffer50, rdf_geo_, how = 'inner', op = 'intersects')"
   ]
  },
  {
   "cell_type": "code",
   "execution_count": 148,
   "metadata": {},
   "outputs": [],
   "source": [
    "after_buffer40 = swithin_b50[['id','region','lat_right','long_right','return_photo']].drop_duplicates()\n",
    "#after_buffer40.head()"
   ]
  },
  {
   "cell_type": "code",
   "execution_count": 149,
   "metadata": {},
   "outputs": [],
   "source": [
    "#len(after_buffer40[after_buffer40.region == 11])"
   ]
  },
  {
   "cell_type": "code",
   "execution_count": 140,
   "metadata": {
    "scrolled": true
   },
   "outputs": [],
   "source": [
    "seoul = after_buffer40[after_buffer40.region == 11].iloc[:17600,:]\n",
    "sejong = after_buffer25[after_buffer25.region == 36].iloc[:17600,:]"
   ]
  },
  {
   "cell_type": "code",
   "execution_count": 141,
   "metadata": {},
   "outputs": [],
   "source": [
    "training_dataset = pd.concat([seoul, sejong])"
   ]
  },
  {
   "cell_type": "code",
   "execution_count": 143,
   "metadata": {},
   "outputs": [],
   "source": [
    "training_dataset.to_csv( 'xxx.csv', index = False )"
   ]
  },
  {
   "cell_type": "markdown",
   "metadata": {},
   "source": [
    "# etc. "
   ]
  },
  {
   "cell_type": "code",
   "execution_count": 89,
   "metadata": {},
   "outputs": [],
   "source": [
    "gdf_admin_gu = gpd.read_file('/Users/SIG.shp',encoding = 'cp949')"
   ]
  },
  {
   "cell_type": "code",
   "execution_count": 90,
   "metadata": {},
   "outputs": [],
   "source": [
    "# gdf_admin_gu.crs \n",
    "gdf_admin_gu.crs = {'init' : 'epsg:4326'}"
   ]
  },
  {
   "cell_type": "code",
   "execution_count": 95,
   "metadata": {
    "scrolled": true
   },
   "outputs": [],
   "source": [
    "gdf_admin_gu['SIG_CD'] = gdf_admin_gu['SIG_CD'].astype(str)\n",
    "gdf_admin_gu['SIG_ENG_NM'] = gdf_admin_gu['SIG_ENG_NM'].astype(str)\n",
    "gdf_admin_gu['SIG_KOR_NM'] = gdf_admin_gu['SIG_KOR_NM'].astype(str)\n",
    "gdf_admin_gu['DO'] = gdf_admin_gu['SIG_CD'].str.slice(0,2)"
   ]
  },
  {
   "cell_type": "code",
   "execution_count": 96,
   "metadata": {},
   "outputs": [
    {
     "data": {
      "text/html": [
       "<div>\n",
       "<style scoped>\n",
       "    .dataframe tbody tr th:only-of-type {\n",
       "        vertical-align: middle;\n",
       "    }\n",
       "\n",
       "    .dataframe tbody tr th {\n",
       "        vertical-align: top;\n",
       "    }\n",
       "\n",
       "    .dataframe thead th {\n",
       "        text-align: right;\n",
       "    }\n",
       "</style>\n",
       "<table border=\"1\" class=\"dataframe\">\n",
       "  <thead>\n",
       "    <tr style=\"text-align: right;\">\n",
       "      <th></th>\n",
       "      <th>SIG_CD</th>\n",
       "      <th>SIG_ENG_NM</th>\n",
       "      <th>SIG_KOR_NM</th>\n",
       "      <th>geometry</th>\n",
       "      <th>DO</th>\n",
       "    </tr>\n",
       "  </thead>\n",
       "  <tbody>\n",
       "    <tr>\n",
       "      <td>75</td>\n",
       "      <td>41111</td>\n",
       "      <td>Jangan-gu, Suwon-si</td>\n",
       "      <td>수원시 장안구</td>\n",
       "      <td>POLYGON ((957466.968 1928109.204, 957495.822 1...</td>\n",
       "      <td>41</td>\n",
       "    </tr>\n",
       "    <tr>\n",
       "      <td>76</td>\n",
       "      <td>41113</td>\n",
       "      <td>Gwonseon-gu, Suwon-si</td>\n",
       "      <td>수원시 권선구</td>\n",
       "      <td>POLYGON ((950378.050 1922655.096, 950401.911 1...</td>\n",
       "      <td>41</td>\n",
       "    </tr>\n",
       "    <tr>\n",
       "      <td>77</td>\n",
       "      <td>41115</td>\n",
       "      <td>Paldal-gu, Suwon-si</td>\n",
       "      <td>수원시 팔달구</td>\n",
       "      <td>POLYGON ((958858.331 1921730.191, 958913.122 1...</td>\n",
       "      <td>41</td>\n",
       "    </tr>\n",
       "    <tr>\n",
       "      <td>78</td>\n",
       "      <td>41117</td>\n",
       "      <td>Yeongtong-gu, Suwon-si</td>\n",
       "      <td>수원시 영통구</td>\n",
       "      <td>POLYGON ((962303.378 1918638.005, 962306.340 1...</td>\n",
       "      <td>41</td>\n",
       "    </tr>\n",
       "  </tbody>\n",
       "</table>\n",
       "</div>"
      ],
      "text/plain": [
       "   SIG_CD              SIG_ENG_NM SIG_KOR_NM  \\\n",
       "75  41111     Jangan-gu, Suwon-si    수원시 장안구   \n",
       "76  41113   Gwonseon-gu, Suwon-si    수원시 권선구   \n",
       "77  41115     Paldal-gu, Suwon-si    수원시 팔달구   \n",
       "78  41117  Yeongtong-gu, Suwon-si    수원시 영통구   \n",
       "\n",
       "                                             geometry  DO  \n",
       "75  POLYGON ((957466.968 1928109.204, 957495.822 1...  41  \n",
       "76  POLYGON ((950378.050 1922655.096, 950401.911 1...  41  \n",
       "77  POLYGON ((958858.331 1921730.191, 958913.122 1...  41  \n",
       "78  POLYGON ((962303.378 1918638.005, 962306.340 1...  41  "
      ]
     },
     "execution_count": 96,
     "metadata": {},
     "output_type": "execute_result"
    }
   ],
   "source": [
    "gdf_admin_gu[gdf_admin_gu.SIG_KOR_NM.str.contains('수원')]"
   ]
  },
  {
   "cell_type": "code",
   "execution_count": 97,
   "metadata": {
    "scrolled": false
   },
   "outputs": [
    {
     "data": {
      "text/plain": [
       "<matplotlib.axes._subplots.AxesSubplot at 0x128656050>"
      ]
     },
     "execution_count": 97,
     "metadata": {},
     "output_type": "execute_result"
    },
    {
     "data": {
      "image/png": "[encoded data removed]",
      "text/plain": [
       "<Figure size 432x288 with 1 Axes>"
      ]
     },
     "metadata": {
      "needs_background": "light"
     },
     "output_type": "display_data"
    }
   ],
   "source": [
    "gdf_admin_gu.plot(color = 'grey')"
   ]
  },
  {
   "cell_type": "code",
   "execution_count": 98,
   "metadata": {},
   "outputs": [],
   "source": [
    "gdf_admin_gu2 = gdf_admin_gu[(gdf_admin_gu['DO'].str.contains('11') == True) | (gdf_admin_gu['DO'].str.contains('36') == True) | (gdf_admin_gu['SIG_KOR_NM'].str.contains('수원'))]"
   ]
  },
  {
   "cell_type": "code",
   "execution_count": 99,
   "metadata": {
    "scrolled": true
   },
   "outputs": [
    {
     "data": {
      "text/plain": [
       "<matplotlib.axes._subplots.AxesSubplot at 0x128898610>"
      ]
     },
     "execution_count": 99,
     "metadata": {},
     "output_type": "execute_result"
    },
    {
     "data": {
      "image/png": "[encoded data removed]",
      "text/plain": [
       "<Figure size 432x288 with 1 Axes>"
      ]
     },
     "metadata": {
      "needs_background": "light"
     },
     "output_type": "display_data"
    }
   ],
   "source": [
    "gdf_admin_gu2.plot(color = 'grey')"
   ]
  }
 ],
 "metadata": {
  "kernelspec": {
   "display_name": "Python 3",
   "language": "python",
   "name": "python3"
  },
  "language_info": {
   "codemirror_mode": {
    "name": "ipython",
    "version": 3
   },
   "file_extension": ".py",
   "mimetype": "text/x-python",
   "name": "python",
   "nbconvert_exporter": "python",
   "pygments_lexer": "ipython3",
   "version": "3.7.4"
  }
 },
 "nbformat": 4,
 "nbformat_minor": 2
}
